{
 "cells": [
  {
   "cell_type": "markdown",
   "metadata": {},
   "source": [
    "# Black Incarceration Rates\n",
    "\n",
    "This visualization shows black incarceration rates in the US from 2000 - 2012. As expected the male rate is higher than the female rate. However, both declined significantly during the period under consideration, with a flat period betwen around 2006 and 2012. This is not discernible on the female trace because it it so much lower."
   ]
  },
  {
   "cell_type": "code",
   "execution_count": 1,
   "metadata": {
    "collapsed": true
   },
   "outputs": [],
   "source": [
    "import pandas as pd\n",
    "import numpy as np\n",
    "import matplotlib.pyplot as plt\n",
    "\n",
    "test_file = pd.read_csv('C:\\\\Users\\\\fergu\\\\ImprisonRatesFinal.csv')"
   ]
  },
  {
   "cell_type": "code",
   "execution_count": 2,
   "metadata": {},
   "outputs": [
    {
     "name": "stdout",
     "output_type": "stream",
     "text": [
      "      sex  year  rate_per_100k\n",
      "104  Male  2000           5358\n",
      "105  Male  2001           5010\n",
      "106  Male  2002           4751\n",
      "107  Male  2003           4303\n",
      "108  Male  2004           4072\n",
      "109  Male  2005           3653\n",
      "110  Male  2006           3541\n",
      "111  Male  2007           3491\n",
      "112  Male  2008           3542\n",
      "113  Male  2009           3565\n",
      "114  Male  2010           3588\n",
      "115  Male  2011           3396\n",
      "116  Male  2012           3102\n",
      "        sex  year  rate_per_100k\n",
      "156  Female  2000            180\n",
      "157  Female  2001            181\n",
      "158  Female  2002            177\n",
      "159  Female  2003            170\n",
      "160  Female  2004            166\n",
      "161  Female  2005            151\n",
      "162  Female  2006            145\n",
      "163  Female  2007            143\n",
      "164  Female  2008            143\n",
      "165  Female  2009            145\n",
      "166  Female  2010            142\n",
      "167  Female  2011            135\n",
      "168  Female  2012            118\n"
     ]
    }
   ],
   "source": [
    "test_file.columns = ['characteristic', 'sex', 'race', 'year', 'rate_per_100k', 'count']\n",
    "test_file2 = test_file[test_file['characteristic'] == 'Black, non-Hispanic']\n",
    "#file3 = test_file2.groupby(['characteristic']).mean()\n",
    "blk_file = test_file2[['sex', 'year', 'rate_per_100k']]\n",
    "blk_male = blk_file[blk_file['sex'] == 'Male']\n",
    "blk_female = blk_file[blk_file['sex'] == 'Female']\n",
    "print(blk_male)\n",
    "print(blk_female)"
   ]
  },
  {
   "cell_type": "code",
   "execution_count": 4,
   "metadata": {},
   "outputs": [
    {
     "data": {
      "image/png": "[encoded data removed]",
      "text/plain": [
       "<matplotlib.figure.Figure at 0x22e95cf4e10>"
      ]
     },
     "metadata": {},
     "output_type": "display_data"
    }
   ],
   "source": [
    "plt.scatter(x=blk_male['year'], y=blk_male['rate_per_100k'], color='blue', marker = 'x')\n",
    "plt.scatter(x=blk_female['year'], y=blk_female['rate_per_100k'], color='red', marker='x')\n",
    "plt.xlabel('Year')\n",
    "plt.ylabel('Rate per 100,000')\n",
    "plt.title('Incarceration Rates - Black Males/ Females 2000-2012')\n",
    "\n",
    "plt.show()"
   ]
  },
  {
   "cell_type": "code",
   "execution_count": null,
   "metadata": {
    "collapsed": true
   },
   "outputs": [],
   "source": [
    "plt.plot"
   ]
  }
 ],
 "metadata": {
  "kernelspec": {
   "display_name": "Python 3",
   "language": "python",
   "name": "python3"
  },
  "language_info": {
   "codemirror_mode": {
    "name": "ipython",
    "version": 3
   },
   "file_extension": ".py",
   "mimetype": "text/x-python",
   "name": "python",
   "nbconvert_exporter": "python",
   "pygments_lexer": "ipython3",
   "version": "3.6.2"
  }
 },
 "nbformat": 4,
 "nbformat_minor": 2
}
